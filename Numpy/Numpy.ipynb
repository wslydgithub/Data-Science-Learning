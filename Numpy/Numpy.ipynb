{
 "cells": [
  {
   "cell_type": "markdown",
   "id": "573c5686-1bdf-4d6a-b1a3-33a1fd024fd5",
   "metadata": {},
   "source": [
    "# Numpy入门\n",
    "在数据分析的过程中，不管数据是什么形式，第一步都需要转化为数值数组形式的可分析数据\n",
    "## 理解Python中的数据类型\n",
    "只要了解过Python的都知道，Python的变量不用事先声明类型，那Python是如何存储这些变量的呢？\n",
    "Python在存储变量的时候，实际上是存储了一个结构体，这个结构体既包括数值的值，还包括数值的类型以及其他信息，可以看如下代码\n",
    "struct_longobject{\n",
    "    long ob_refcnt; # 一个引用计数，帮助Python进行内存的回收和分配\n",
    "    PyTypeObject *ob_type; # 记录数值的类型\n",
    "    size_t ob_size; # 记录数据的大小\n",
    "    long ob_digit[1]; # 记录的是真正数值的大小\n",
    "}\n",
    "这是在Python3.4中long类型的源代码。\n",
    "这证明了Python在存储方面与其他语言相比，是由一定的开销的。\n",
    "#### Python中的列表\n",
    "理解了Python的数据存储方式，我们就可以推断出Python中列表的存储方式，因为Python中的列表可以存储不同的数据，所以列表的每一个都是一个完整的Python对象，当一个列表中的每一个数值的类型都是一样的，在处理列表的时候就会有其他的存储，造成一定的浪费。这就是Python中列表和Numpy数组之间的区别。\n",
    "#### Python的改变\n",
    "当然在之后Python又加上了`array`这个包，但是`Numpy`中为数组提供了更加快捷的计算方式。\n",
    "## Numpy操作\n",
    "### 创建数组\n",
    "#### 从Python中创建数组"
   ]
  },
  {
   "cell_type": "code",
   "execution_count": 3,
   "id": "ea2c06d1-5c2c-4815-bb73-cb0dfda007fd",
   "metadata": {},
   "outputs": [
    {
     "name": "stdout",
     "output_type": "stream",
     "text": [
      "[1 2 3 4 5]\n",
      "[1. 2. 3. 4.]\n",
      "[1 2 3 7]\n"
     ]
    }
   ],
   "source": [
    "import numpy as np\n",
    "\n",
    "# 将Python中的列表传入\n",
    "list_array = np.array([1,2,3,4,5])\n",
    "\n",
    "# 除此之外，如果列表中的数值类型不同，但是可以转化为整数的，向上转型，比如float64和int在一起，最后的数组为float64,但是可以使用dtype来强制指定类型\n",
    "float_int_array = np.array([1.0,2,3,4])\n",
    "float_int_array_change=np.array([1.0,2,3,7],dtype='int')\n",
    "\n",
    "print(list_array)\n",
    "print(float_int_array)\n",
    "print(float_int_array_change)"
   ]
  },
  {
   "cell_type": "markdown",
   "id": "e7db2376-70fb-4c79-b90e-7b8ca32c1fe6",
   "metadata": {},
   "source": [
    "### 从头创建数组"
   ]
  },
  {
   "cell_type": "code",
   "execution_count": 25,
   "id": "980092da-3d85-42f4-b609-bd7f5c569239",
   "metadata": {
    "scrolled": true
   },
   "outputs": [
    {
     "name": "stdout",
     "output_type": "stream",
     "text": [
      "[[0. 0. 0. 0. 0.]\n",
      " [0. 0. 0. 0. 0.]\n",
      " [0. 0. 0. 0. 0.]]\n",
      "[[1 1 1 1 1]\n",
      " [1 1 1 1 1]\n",
      " [1 1 1 1 1]]\n",
      "[[1.11213131 1.11213131 1.11213131 1.11213131 1.11213131]\n",
      " [1.11213131 1.11213131 1.11213131 1.11213131 1.11213131]\n",
      " [1.11213131 1.11213131 1.11213131 1.11213131 1.11213131]]\n",
      "[ 0  1  2  3  4  5  6  7  8  9 10 11 12 13 14 15 16 17 18 19]\n",
      "[0.   1.25 2.5  3.75 5.  ]\n",
      "[[0.2650613  0.64877753 0.48622079 0.863694   0.31153196 0.48455287\n",
      "  0.42328841 0.19747032 0.3073851 ]\n",
      " [0.39349399 0.75769183 0.26024168 0.66735235 0.06564438 0.92040506\n",
      "  0.43161347 0.70812155 0.08637877]\n",
      " [0.261188   0.22743954 0.11470549 0.28643421 0.79589524 0.1682116\n",
      "  0.99911744 0.56544662 0.38601133]\n",
      " [0.77613751 0.93397237 0.97406985 0.99479564 0.31537895 0.09822511\n",
      "  0.71290006 0.53684904 0.98348005]]\n",
      "[[ 1.48812374 -0.54118188  2.20502678  0.06390644 -0.68434206  0.12441383]\n",
      " [ 0.77127589  0.14001118  0.19880043  0.17612867  1.12559085 -1.20237595]\n",
      " [ 1.55388858  0.72791255  3.35423584  0.68833757 -0.17408066  1.01148526]\n",
      " [-1.52245259 -1.13443655  0.36712102  0.83833442  0.38379505 -0.7191075 ]\n",
      " [ 0.44034071 -0.62276033 -0.36431556  1.27641855  0.34870249 -1.55101687]]\n",
      "[[11 10 14 12 11 17]\n",
      " [16 19 12 10 11 16]\n",
      " [13 15 12 19 11 15]\n",
      " [19 10 18 13 16 13]\n",
      " [17 10 13 11 17 11]]\n",
      "[[1. 0. 0. 0.]\n",
      " [0. 1. 0. 0.]\n",
      " [0. 0. 1. 0.]\n",
      " [0. 0. 0. 1.]]\n",
      "[1. 1. 1. 1.]\n"
     ]
    }
   ],
   "source": [
    "import numpy as np\n",
    "\n",
    "# .zeros创建一个数值都是0的数组，第一个参数为数组的大小，第二个参数为数组中值的类型，\n",
    "print(np.zeros((3,5),dtype = float))\n",
    "\n",
    "# .ones创建一个数值都为1的数组，第一个参数为数组的大小，第二个参数为数组中值的类型，\n",
    "print(np.ones((3,5),dtype = int))\n",
    "\n",
    "# .full创建一个数值为第二个参数的数组，第一个参数为数组的大小，第二个参数为数组中值的大小，\n",
    "print(np.full((3,5),1.11213131313))\n",
    "\n",
    "# .arange(a,b,c)创建一个线性的数组，值从a到b，步差为c\n",
    "print(np.arange(0,20,1))\n",
    "\n",
    "# .linspace(a,b,c)创建一个线性的数组，大小为c，值为a到b的均匀分布,这个地方值包含b\n",
    "print(np.linspace(0,5,5))\n",
    "\n",
    "# .random.random((m,n))创建一个m*n维的数组，值从0-1随机选取\n",
    "print(np.random.random((4,9)))\n",
    "\n",
    "# .random.normal(a,b,c)创建一个正态分布的数组，平均值为a，标准差为b，c为数组的大小\n",
    "print(np.random.normal(0,1,(5,6)))\n",
    "\n",
    "# .random.randint(a,b,c)好眼熟，创建一个整数数组大小为c，数值的大小从a到b，随机选一个\n",
    "print(np.random.randint(10,20,(5,6)))\n",
    "\n",
    "# .eye(a)创建维数为a的一个单位矩阵\n",
    "print(np.eye(4))  # 6,大小为99，直接省略号\n",
    "\n",
    "# .empty(a)创建一个大小为a的一维整数数组，数值为内存中的任意值\n",
    "print(np.empty(4))"
   ]
  },
  {
   "cell_type": "markdown",
   "id": "ed2f735b-576f-4294-b10c-eacf44c6cb0d",
   "metadata": {},
   "source": [
    "## Numpy数组的数据类型\n",
    "`Numpy`是在C的基础上开发的，所以它的数据类型要对于C用户来说更好理解，在构建数组的时候可以通过`dtype=`来进行要求，这里只点我觉得新奇的数据类型\n",
    "* `intp`:用于做索引的`int`型数据\n",
    "* `uint`:长时间不用都忘了，是不带符号的`int`型数据\n",
    "* `complex`:复数\n",
    "## Numpy数组的基础\n",
    "Numpy数组包含的属性\n",
    "* 数组的大小，形状，数据类型，存储大小\n",
    "* 数组的索引\n",
    "* 数组的变形\n",
    "* 数组的切片和组合\n",
    "### Numpy数组的大小，形状，数据类型，存储大小"
   ]
  },
  {
   "cell_type": "code",
   "execution_count": 33,
   "id": "fb26af07-4f9e-4007-bd3b-6f9bc5e64703",
   "metadata": {},
   "outputs": [
    {
     "name": "stdout",
     "output_type": "stream",
     "text": [
      "x3 ndim: 2\n",
      "x3 shape: (4, 4)\n",
      "x3 size: 16\n",
      "x3 dtpye: int32\n",
      "x3 itemsize 4\n",
      "x3 nbytes 64\n"
     ]
    }
   ],
   "source": [
    "import numpy as np\n",
    "\n",
    "np.random.seed(0) # 设置随机种子\n",
    "\n",
    "# 设置一个随机整数数组，大小从0到9，形状是size\n",
    "x3 = np.random.randint(0,9,size=(4,4))\n",
    "\n",
    "print(\"x3 ndim:\",x3.ndim) # x3的维度\n",
    "print(\"x3 shape:\",x3.shape) # x3的形状\n",
    "print(\"x3 size:\",x3.size) # x3的大小\n",
    "print(\"x3 dtpye:\",x3.dtype) # x3的数据类型\n",
    "print(\"x3 itemsize\",x3.itemsize) # x3的单个数据的字节数\n",
    "print(\"x3 nbytes\",x3.nbytes) # x3的全部字节数 "
   ]
  },
  {
   "cell_type": "markdown",
   "id": "f40b9a61-0ca8-4bf3-a1b9-c443d157a146",
   "metadata": {},
   "source": [
    "### Numpy数组的索引"
   ]
  },
  {
   "cell_type": "code",
   "execution_count": 43,
   "id": "ae1ea443-89f4-4fde-bf55-70c9105dc1de",
   "metadata": {},
   "outputs": [
    {
     "name": "stdout",
     "output_type": "stream",
     "text": [
      "[[20 58 23 79]\n",
      " [13 48 49 69]\n",
      " [41 35 64 69]\n",
      " [ 0 50 36 34]]\n",
      "[13 48 49 69]\n",
      "79\n",
      "[[20 56 23 79]\n",
      " [13 48 49 69]\n",
      " [41 35 64 69]\n",
      " [ 0 50 36 34]]\n"
     ]
    }
   ],
   "source": [
    "import numpy as np\n",
    "\n",
    "x = np.random.randint(0,80,(4,4))\n",
    "\n",
    "print(x)\n",
    "# 通过索引来进行数据存取\n",
    "print(x[1])# 多维取一行\n",
    "# 多维单个值的取法\n",
    "print(x[0,3])\n",
    "# 修改值\n",
    "x[0,1]=56\n",
    "print(x)"
   ]
  },
  {
   "cell_type": "markdown",
   "id": "7df7041c-9ecd-46d7-9efb-dfd43fd0c735",
   "metadata": {},
   "source": [
    "***注意***：在Numpy数组中数据类型是确定的，所以如果要插入不同数据类型的数值，可能会出现两种情况，第一是直接错误，第二是截断一部分数值，也就是进行数据类型的转化\n",
    "### Numpy数组切片"
   ]
  },
  {
   "cell_type": "code",
   "execution_count": 49,
   "id": "4f9d4eaf-f2b6-4c3b-a82e-dd4ed1490dfa",
   "metadata": {},
   "outputs": [
    {
     "name": "stdout",
     "output_type": "stream",
     "text": [
      "[[46 20 50 27]\n",
      " [14 41 58 65]\n",
      " [36 10 43 11]\n",
      " [ 2 51 32 54]]\n",
      "[[41 58]\n",
      " [10 43]]\n",
      "[46 14 36  2]\n",
      "[46 20 50 27]\n"
     ]
    }
   ],
   "source": [
    "import numpy as np\n",
    "\n",
    "# 一维数组的切片太简单了，所以不在此进行进一步的说明\n",
    "x = np.random.randint(0,80,(4,4))\n",
    "\n",
    "# 多维数组的切片类似是两个一维的组合\n",
    "print(x)\n",
    "\n",
    "# 第一部分对行进行处理，第二部分对列进行处理，也可以逆序\n",
    "print(x[1:3:1,1:3:1])\n",
    "\n",
    "# 当然也可以单取一行，也可以单取一列\n",
    "print(x[:,0]) # 取第一列\n",
    "print(x[0,:]) # 取第一行"
   ]
  },
  {
   "cell_type": "markdown",
   "id": "484954f0-fd09-4ac4-8fae-540a885a4031",
   "metadata": {},
   "source": [
    "***注意***：切片返回的数组的视图，而不是副本，也就是，如果你修改切片，那原数组也会发生变化\n",
    "当然，如果你要实现数组的赋值也很简单，再切片后加上一个`.copy()`，之后你对这个切片进行修改，那就不会对数组本身进行改变\n",
    "### Numpy数组的变形\n",
    "Numpy数组变形最常用的是`.reshape()`这个方法，使用的前提是你变形之后的那个数组要和变形前的数组的大小是一致的"
   ]
  },
  {
   "cell_type": "code",
   "execution_count": 53,
   "id": "4de5eadb-595e-47b5-aa1c-9cebba74ae0f",
   "metadata": {},
   "outputs": [
    {
     "name": "stdout",
     "output_type": "stream",
     "text": [
      "[[0 1 2]\n",
      " [3 4 5]\n",
      " [6 7 8]]\n"
     ]
    }
   ],
   "source": [
    "import numpy as np\n",
    "\n",
    "x= np.arange(0,9)\n",
    "\n",
    "print(x.reshape(3,3))"
   ]
  },
  {
   "cell_type": "markdown",
   "id": "cbe0d763-22c3-47e7-9dbb-be5a302ed0fc",
   "metadata": {},
   "source": [
    "### Numpy数组的拼接和分裂\n",
    "#### Numpy数组的拼接\n",
    "数组的拼接主要是通过`.concatenate`和`.vstack`和`.hstack`三个方法实现,可以两个数组拼接，也可以自己与自己拼接"
   ]
  },
  {
   "cell_type": "code",
   "execution_count": 63,
   "id": "ec7fc717-6cd8-47d9-a775-ab22b6d7acd2",
   "metadata": {},
   "outputs": [
    {
     "name": "stdout",
     "output_type": "stream",
     "text": [
      "[[ 0  1  2  3]\n",
      " [ 4  5  6  7]\n",
      " [ 8  9 10 11]\n",
      " [12 13 14 15]]\n",
      "[[ 0  1  2  3]\n",
      " [ 4  5  6  7]\n",
      " [ 8  9 10 11]\n",
      " [12 13 14 15]\n",
      " [ 0  1  2  3]\n",
      " [ 4  5  6  7]\n",
      " [ 8  9 10 11]\n",
      " [12 13 14 15]]\n",
      "[[ 0  1  2  3  0  1  2  3]\n",
      " [ 4  5  6  7  4  5  6  7]\n",
      " [ 8  9 10 11  8  9 10 11]\n",
      " [12 13 14 15 12 13 14 15]]\n",
      "[[ 0  1  2  3]\n",
      " [ 4  5  6  7]\n",
      " [ 8  9 10 11]\n",
      " [12 13 14 15]\n",
      " [ 0  1  2  3]\n",
      " [ 4  5  6  7]\n",
      " [ 8  9 10 11]\n",
      " [12 13 14 15]]\n",
      "[[ 0  1  2  3  0  1  2  3]\n",
      " [ 4  5  6  7  4  5  6  7]\n",
      " [ 8  9 10 11  8  9 10 11]\n",
      " [12 13 14 15 12 13 14 15]]\n"
     ]
    }
   ],
   "source": [
    "import numpy as np\n",
    "\n",
    "x3 = np.arange(0,16).reshape((4,4))\n",
    "\n",
    "print(x3)\n",
    "# 上下拼接\n",
    "print(np.concatenate([x3,x3]))\n",
    "# 左右拼接\n",
    "print(np.concatenate([x3,x3],axis=1))\n",
    "# .vstack是垂直拼接\n",
    "print(np.vstack([x3,x3]))\n",
    "# .hstack是水平拼接\n",
    "print(np.hstack([x3,x3]))"
   ]
  },
  {
   "cell_type": "markdown",
   "id": "dbd0af5b-af08-4277-8bea-6a2916096125",
   "metadata": {},
   "source": [
    "#### Numpy数组的分裂\n",
    "数组的分裂主要通过`.split`以及`.vsplit`和`.hsplit`来操作"
   ]
  },
  {
   "cell_type": "code",
   "execution_count": 75,
   "id": "4eb8e9e1-9c12-4c8c-ab8c-81271dd025f2",
   "metadata": {},
   "outputs": [
    {
     "name": "stdout",
     "output_type": "stream",
     "text": [
      "[array([[0, 1, 2, 3]]), array([[4, 5, 6, 7]]), array([[ 8,  9, 10, 11],\n",
      "       [12, 13, 14, 15]])]\n",
      "[array([[0, 1, 2, 3]]), array([[4, 5, 6, 7]]), array([[ 8,  9, 10, 11]]), array([[12, 13, 14, 15]])]\n",
      "[array([[ 0],\n",
      "       [ 4],\n",
      "       [ 8],\n",
      "       [12]]), array([[ 1],\n",
      "       [ 5],\n",
      "       [ 9],\n",
      "       [13]]), array([[ 2],\n",
      "       [ 6],\n",
      "       [10],\n",
      "       [14]]), array([[ 3],\n",
      "       [ 7],\n",
      "       [11],\n",
      "       [15]])]\n"
     ]
    }
   ],
   "source": [
    "import numpy as np\n",
    "\n",
    "x3 = np.arange(0,16).reshape((4,4))\n",
    "\n",
    "# 输入的列表是分裂点,分裂点是不包含0的方法\n",
    "print(np.split(x3,[1,2]))\n",
    "\n",
    "# .vsplit是垂直分裂\n",
    "print(np.vsplit(x3,[1,2,3]))\n",
    "\n",
    "# .hsplit是水平分裂\n",
    "print(np.hsplit(x3,[1,2,3]))"
   ]
  },
  {
   "cell_type": "markdown",
   "id": "829f8b86-1100-421f-be66-26788081a35f",
   "metadata": {},
   "source": [
    "## Numpy的通用函数\n",
    "Numpy另一个加速操作的设定就是向量化操作这一个特点。而这些向量化操作主要是在通用函数中进行，接下来用一个例子介绍一下Numpy的通用函数"
   ]
  },
  {
   "cell_type": "code",
   "execution_count": 79,
   "id": "8742c41a-b173-4137-958a-7bc129ae64e1",
   "metadata": {},
   "outputs": [
    {
     "name": "stdout",
     "output_type": "stream",
     "text": [
      "[ 2  4  8 16]\n",
      "[1. 1. 1. 1.]\n"
     ]
    }
   ],
   "source": [
    "import numpy as np\n",
    "\n",
    "x1 = np.arange(1,5)\n",
    "x2 = np.arange(1,5)\n",
    "print(2**x)\n",
    "print(x1/x2)"
   ]
  },
  {
   "cell_type": "markdown",
   "id": "bc0af962-a96d-41fc-8b51-4f5514a10de0",
   "metadata": {},
   "source": [
    "从这个例子中我们可以看出，Numpy的向量化操作，每次计算都是对于一个数组中的每一个值进行计算,不仅适用于数组和单个数值之间，也适用于数组和数组之间"
   ]
  },
  {
   "cell_type": "markdown",
   "id": "98e5c45d-1a8b-43d5-ba69-97492ad55eba",
   "metadata": {},
   "source": [
    "### Numpy的数组运算\n",
    "* +，-，*，/(除，直接小数的)，//(整除)，**(次方)，\n",
    "* .abs()绝对值,也可以处理复数不过返回的是复数的模\n",
    "* .sin() .cos() .tan()三角函数\n",
    "* .arcsin() .arccos() .arctan()反三角函数\n",
    "* .exp() .exp2()[其实是2的次方] .power(a,b)指数函数\n",
    "* .log()[这个其实是ln()] .log2() .log10()\n",
    "当然Numpy还有很多其他的操作，更精细和专业的可以去 scipy.special 这个包里使用"
   ]
  },
  {
   "cell_type": "code",
   "execution_count": 83,
   "id": "642a5574-9b45-493d-a084-4895c6e5a89f",
   "metadata": {},
   "outputs": [
    {
     "name": "stdout",
     "output_type": "stream",
     "text": [
      "[1 2 3 4]\n",
      "[ 0.84147098  0.90929743  0.14112001 -0.7568025 ]\n",
      "[ 2.71828183  7.3890561  20.08553692 54.59815003] [ 2.  4.  8. 16.] [ 3  9 27 81]\n",
      "[0.         0.69314718 1.09861229 1.38629436] [0.         0.30103    0.47712125 0.60205999]\n"
     ]
    }
   ],
   "source": [
    "import numpy as np\n",
    "\n",
    "x1 = np.arange(1,5)\n",
    "print(np.abs(x1))\n",
    "print(np.sin(x1))\n",
    "print(np.exp(x1),np.exp2(x1),np.power(3,x1))\n",
    "print(np.log(x1),np.log10(x1))"
   ]
  },
  {
   "cell_type": "markdown",
   "id": "9e188745-f5dd-4ff8-8ef9-682e3498a3a6",
   "metadata": {},
   "source": [
    "### 高级的通用函数\n",
    "1. 指定输出，通过每一个计算的out标签输出，设定输出的数组，以及位置\n",
    "2. 聚合，.reduce()方法，要求一直做某个操作，直到只剩下一个值，.accumulate()方法存下每一个执行之后的值\n",
    "3. 外积，.outer()方法，获得两个不同输入的数组所有元素对的函数运算结果"
   ]
  },
  {
   "cell_type": "code",
   "execution_count": 97,
   "id": "6fae7493-a2e1-432e-9cb9-90a7cfa69bba",
   "metadata": {},
   "outputs": [
    {
     "name": "stdout",
     "output_type": "stream",
     "text": [
      "[2. 4. 6. 8.]\n",
      "10\n",
      "[ 1  3  6 10]\n",
      "[[ 1  2  3  4]\n",
      " [ 2  4  6  8]\n",
      " [ 3  6  9 12]\n",
      " [ 4  8 12 16]]\n"
     ]
    }
   ],
   "source": [
    "import numpy as np\n",
    "\n",
    "x1 = np.arange(1,5)\n",
    "x2 = np.empty(4)\n",
    "\n",
    "np.add(x1,x1,out=x2)\n",
    "print(x2)\n",
    "print(np.add.reduce(x1))\n",
    "print(np.add.accumulate(x1))\n",
    "print(np.outer(x1,x1))"
   ]
  },
  {
   "cell_type": "markdown",
   "id": "0f4b4122-6c79-47b2-a40b-d08f3d6bb104",
   "metadata": {},
   "source": [
    "### 聚合函数\n",
    "* np.sum()\n",
    "* np.prod() 计算积\n",
    "* np.mean() 平均数\n",
    "* np.std() 标准差\n",
    "* np.var() 方差\n",
    "* np.min() np.max()\n",
    "* np.argmin() 最小值的索引\n",
    "* np.argmax() 最大值的索引\n",
    "* np.median() 中位数\n",
    "* np.percentile() 计算基于元素排序的统计值\n",
    "* np.any() 验证元素是否存在元素为真\n",
    "* np.all() 验证所有元素是否为真\n",
    "这个地方就不写例子了"
   ]
  },
  {
   "cell_type": "code",
   "execution_count": null,
   "id": "15e4f0ce-0cd5-4e1b-b1ce-3023f6706d15",
   "metadata": {},
   "outputs": [],
   "source": [
    "# 这是一个练习，对总统的身高做一个统计"
   ]
  },
  {
   "cell_type": "code",
   "execution_count": 105,
   "id": "e3407706-af24-4f6e-a35a-237a076be34a",
   "metadata": {},
   "outputs": [
    {
     "name": "stdout",
     "output_type": "stream",
     "text": [
      "heights min: 163\n",
      "heights max: 193\n",
      "heights mean: 180.04545454545453\n",
      "heights std: 7.064337377226628\n",
      "heights var: 49.904862579281186\n",
      "heights median: 182.0\n",
      "heights 25% 174.75\n",
      "heights 50% 182.0\n",
      "heights 75% 183.5\n"
     ]
    }
   ],
   "source": [
    "import pandas as pd\n",
    "import numpy as np\n",
    "\n",
    "data = pd.read_csv(\"president_heights.csv\")\n",
    "\n",
    "heights =data[\"height(cm)\"]\n",
    "\n",
    "print(\"heights min:\",heights.min())\n",
    "print(\"heights max:\",heights.max())\n",
    "print(\"heights mean:\",heights.mean())\n",
    "print(\"heights std:\",heights.std())\n",
    "print(\"heights var:\",heights.var())\n",
    "print(\"heights median:\",heights.median())\n",
    "print(\"heights 25%\",np.percentile(heights,25))\n",
    "print(\"heights 50%\",np.percentile(heights,50))\n",
    "print(\"heights 75%\",np.percentile(heights,75))"
   ]
  },
  {
   "cell_type": "markdown",
   "id": "7b8c42cf-092d-4d35-b769-1cef2d80bc79",
   "metadata": {},
   "source": [
    "### 广播，另一种向量化操作\n",
    "广播，可以简单理解为用于不同大小数组的二元通用函数\n",
    "在学习广播之前，我们知道，当数组的大小一致的时候，是分别相加，但是当数组大小不一致的时候，该如何处理呢？Numpy提供了广播机制，也就是为小数组进行扩增，接下来结合代码演示"
   ]
  },
  {
   "cell_type": "code",
   "execution_count": 3,
   "id": "aa5395f8-05ab-4763-9f23-37edc42a12e7",
   "metadata": {},
   "outputs": [
    {
     "name": "stdout",
     "output_type": "stream",
     "text": [
      "[10 11 12]\n"
     ]
    }
   ],
   "source": [
    "import numpy as np\n",
    "\n",
    "x = np.arange(3)\n",
    "\n",
    "print(x+10)"
   ]
  },
  {
   "cell_type": "markdown",
   "id": "61ff65dc-d8e9-4e0c-ba68-a4948790b166",
   "metadata": {},
   "source": [
    "从上述结果我们可以看出来，这个地方Numpy对10进行了扩增，也就是将10扩增成了[10,10,10],这样相加的时候就相当于对于两个相同大小的数组相加，再来一个更难一点的，两个数组都尽心扩增"
   ]
  },
  {
   "cell_type": "code",
   "execution_count": 13,
   "id": "1e2479a3-1264-4c72-9088-e955abd62505",
   "metadata": {},
   "outputs": [
    {
     "name": "stdout",
     "output_type": "stream",
     "text": [
      "[0 1 2]\n",
      "[[0]\n",
      " [1]\n",
      " [2]]\n",
      "[[0 1 2]\n",
      " [1 2 3]\n",
      " [2 3 4]]\n"
     ]
    }
   ],
   "source": [
    "import numpy as np\n",
    "\n",
    "x1 = np.arange(3)\n",
    "x2 = np.arange(3)[:,np.newaxis]\n",
    "print(x1)\n",
    "print(x2)\n",
    "print(x1+x2)"
   ]
  },
  {
   "cell_type": "markdown",
   "id": "e399da1e-fe5d-49be-8eac-9ee99ceb9f78",
   "metadata": {},
   "source": [
    "这个地方相当于对于两个数组都进行了广播，都扩充成了3*3的矩阵，然后进行相加。\n",
    "#### 广播的规则\n",
    "1. 如果两个数组的维度不同，那么小维度的数组的形状会在左侧加1\n",
    "2. 如果两个数组的形状在任何一个维度都不相同，则数组会沿着维度为1的维度扩展来匹配另一个数组\n",
    "3. 如果两个数组的形状在任何一个维度都不相同，并且没有维度为1的数组，也就是其中一个数组无法进行扩展，这时广播是失败的"
   ]
  },
  {
   "cell_type": "code",
   "execution_count": 17,
   "id": "567910ca-cfd7-403a-8387-9636bde4eb61",
   "metadata": {},
   "outputs": [
    {
     "ename": "ValueError",
     "evalue": "operands could not be broadcast together with shapes (3,2) (3,) ",
     "output_type": "error",
     "traceback": [
      "\u001b[1;31m---------------------------------------------------------------------------\u001b[0m",
      "\u001b[1;31mValueError\u001b[0m                                Traceback (most recent call last)",
      "Cell \u001b[1;32mIn[17], line 7\u001b[0m\n\u001b[0;32m      4\u001b[0m x1 \u001b[38;5;241m=\u001b[39m np\u001b[38;5;241m.\u001b[39mones((\u001b[38;5;241m3\u001b[39m,\u001b[38;5;241m2\u001b[39m))\n\u001b[0;32m      5\u001b[0m x2 \u001b[38;5;241m=\u001b[39m np\u001b[38;5;241m.\u001b[39marange(\u001b[38;5;241m3\u001b[39m)\n\u001b[1;32m----> 7\u001b[0m \u001b[38;5;28mprint\u001b[39m(x1\u001b[38;5;241m+\u001b[39mx2)\n",
      "\u001b[1;31mValueError\u001b[0m: operands could not be broadcast together with shapes (3,2) (3,) "
     ]
    }
   ],
   "source": [
    "## 来个广播失败的例子\n",
    "import numpy as np\n",
    "\n",
    "x1 = np.ones((3,2))\n",
    "x2 = np.arange(3)\n",
    "\n",
    "print(x1+x2)"
   ]
  },
  {
   "cell_type": "markdown",
   "id": "0fad293f-37c0-4c6d-b707-241e7b4965e3",
   "metadata": {},
   "source": [
    "报错解析：\n",
    "x2扩充(3,)->(1,3)，然后扩充不了了，***注意一定是从左边来补1***，所以会发生错误。 \n",
    "#### 广播的实际运用\n",
    "1. 进行数组归一化，也就是将大数值缩小的[0,1]的区间里\n",
    "2. 画一个二维函数\n",
    "## 比较，掩码和布尔逻辑\n",
    "这个和pandas的那个很相似，和之前学习的通用函数一样，像>,<,=等这些关系运算符，也是通用函数，只不过得到的是一个和原数组大小一致的一个布尔数组"
   ]
  },
  {
   "cell_type": "code",
   "execution_count": 23,
   "id": "53ee03e1-e422-4af5-917a-1b99f0161edd",
   "metadata": {},
   "outputs": [
    {
     "name": "stdout",
     "output_type": "stream",
     "text": [
      "[0 1 2 3 4 5 6 7 8 9]\n",
      "[ True  True  True  True  True False False False False False]\n",
      "[ True  True  True False False False False False False False]\n"
     ]
    }
   ],
   "source": [
    "import numpy as np\n",
    "\n",
    "x2 = np.arange(10)\n",
    "\n",
    "print(x2)\n",
    "print(x2<5)\n",
    "# 当然复杂的比较也是可以的\n",
    "\n",
    "print(2**x2<5)"
   ]
  },
  {
   "cell_type": "markdown",
   "id": "407792da-f8bb-4042-a541-2a17d41574a5",
   "metadata": {},
   "source": [
    "### 操作布尔数组\n",
    "1. 记录符合条件的个数\n",
    "   可以使用`np.count_nonzero`和`np.sum`来统计，但是建议使用后者，因为后者有`axis`标签，可以按照某一个轴来进行统计\n",
    "2. 快速检查\n",
    "   结合`np.any`和`np.all`对一个数组进行快速的布尔判断\n",
    "3. 布尔运算符\n",
    "   &，|，^(异或，只有两边的值不一致才会为真)，~(非)\n",
    "4. 直接将布尔数组作为掩码，也就是将原数组与布尔数组结合起来，取出符合对应条件的值"
   ]
  },
  {
   "cell_type": "code",
   "execution_count": 43,
   "id": "9850f190-3098-4f93-8d3b-a59a6692123c",
   "metadata": {},
   "outputs": [
    {
     "name": "stdout",
     "output_type": "stream",
     "text": [
      "[0 1 2 3 4 5 6 7 8 9]\n",
      "4\n",
      "[[0 1 2 3 4]\n",
      " [5 6 7 8 9]]\n",
      "[0 5]\n",
      "True\n",
      "False\n",
      "[False False False False False  True  True  True  True  True]\n",
      "[ True  True  True  True  True  True  True  True  True  True]\n",
      "[ True  True  True  True  True False False False False False]\n",
      "[ True  True  True  True  True False False False False False]\n",
      "[5 6 7 8 9]\n"
     ]
    }
   ],
   "source": [
    "import numpy as np\n",
    "\n",
    "x1=np.arange(10)\n",
    "\n",
    "print(x1)\n",
    "\n",
    "print(np.sum(x1>5))\n",
    "\n",
    "x2 = np.arange(10).reshape((2,5))\n",
    "print(x2)\n",
    "\n",
    "print(np.sum(x2>4,axis=1))\n",
    "\n",
    "# 判断是否存在\n",
    "print(np.any(x1<10))\n",
    "\n",
    "# 判断是否都是\n",
    "print(np.all(x1>0))\n",
    "\n",
    "print((x1<10)&(x1>4))\n",
    "\n",
    "print((x1<10)|(x1>4))\n",
    "\n",
    "print((x1<10)^(x1>4))\n",
    "\n",
    "print(~(x1>4))\n",
    "\n",
    "# 利用布尔数组来作为掩码\n",
    "print(x1[x1>4])"
   ]
  },
  {
   "cell_type": "markdown",
   "id": "6955774b-8c78-4ad2-91fe-a3631356446e",
   "metadata": {},
   "source": [
    "***小tip:***\n",
    "为什么不使用and和or呢？注意了and和or是对整个数组起效，而&和|是对数组中的每一个比特位进行操作。\n",
    "## 有趣的索引\n",
    "我们之前使用的是正常的索引，也就是x[0]这种，但是Numpy中提供了另一种索引，也就是索引数组，利用索引数组我们能更方便的操纵数组。如下列代码"
   ]
  },
  {
   "cell_type": "code",
   "execution_count": 51,
   "id": "4546e46b-e6c7-445b-a6a3-d16620f1bd1d",
   "metadata": {},
   "outputs": [
    {
     "name": "stdout",
     "output_type": "stream",
     "text": [
      "[ 0  1  2  3  4  5  6  7  8  9 10 11 12]\n",
      "[[[1 2 3]]]\n"
     ]
    }
   ],
   "source": [
    "import numpy as np\n",
    "\n",
    "x=np.arange(100)\n",
    "\n",
    "x2 = np.arange(13)\n",
    "\n",
    "print(x[x2])\n",
    "\n",
    "## 注意使用索引数组得到的数组，大小和形状和索引数组一致\n",
    "x = np.array([[1,2,3],[1,2,3]])\n",
    "x2=np.array([[1]])\n",
    "print(x[x2]) # 这里就是与x2的形状一致"
   ]
  },
  {
   "cell_type": "markdown",
   "id": "9a269780-510b-4048-9b06-abd3db278dcd",
   "metadata": {},
   "source": [
    "对于多维数组也是一致的，但是如果索引数组是多个一维数组的组合，那么索引数组是这些数组广播之后的形状，当然索引数组不仅仅只用于数组的索引还可以用于数据的修改，也就是相当与从数组中取出值之后再对这些值进行相加。"
   ]
  },
  {
   "cell_type": "markdown",
   "id": "b33ef30d-273c-451e-8d21-3a5f9983a81b",
   "metadata": {},
   "source": [
    "## 数组的排序\n",
    "对于Numpy中数组的排序，一般是通过np.sort和np.argsort实现\n",
    "np.sort一般是使用快速排序，有时也使用堆排序和归并排序\n",
    "np.argsort输出的是排序之后的索引号"
   ]
  },
  {
   "cell_type": "code",
   "execution_count": 61,
   "id": "7841c94c-cb5e-4458-8b7c-29bbea6e9ff6",
   "metadata": {},
   "outputs": [
    {
     "name": "stdout",
     "output_type": "stream",
     "text": [
      "[ 2  3  4  5  9 41 58]\n",
      "[ 4  2  3 58  5  9 41]\n",
      "[ 2  3  4  5  9 41 58]\n",
      "[0 1 2 3 4 5 6]\n"
     ]
    }
   ],
   "source": [
    "import numpy as np\n",
    "x = np.array([4,2,3,58,5,9,41])\n",
    "# 如果要直接对数组排序，而不是输出排序的视图可以使用x.sort()\n",
    "print(np.sort(x))\n",
    "print(x)\n",
    "x.sort()\n",
    "print(x)\n",
    "print(np.argsort(x))"
   ]
  },
  {
   "cell_type": "markdown",
   "id": "77fc857a-e048-4cf1-bedd-04a7ed9be07d",
   "metadata": {},
   "source": [
    "除此之外，np.sort()和np.argsort()还具有axis标签，可以指定列和行"
   ]
  },
  {
   "cell_type": "code",
   "execution_count": 71,
   "id": "453da235-1035-40b8-ab9a-24577601fa33",
   "metadata": {},
   "outputs": [
    {
     "name": "stdout",
     "output_type": "stream",
     "text": [
      "[[4 4 9]\n",
      " [4 7 9]\n",
      " [0 5 8]]\n",
      "[[4 4 0]\n",
      " [8 5 4]\n",
      " [9 9 7]]\n",
      "[[0 1 2]\n",
      " [2 2 0]\n",
      " [1 0 1]]\n"
     ]
    }
   ],
   "source": [
    "import numpy as np\n",
    "x = np.random.randint(0,10,(3,3))\n",
    "\n",
    "print(np.sort(x,axis=1))\n",
    "print(np.sort(x,axis=0))\n",
    "print(np.argsort(x,axis =0))"
   ]
  },
  {
   "cell_type": "markdown",
   "id": "14c79c57-897c-4565-934e-b162dcbe7fc8",
   "metadata": {},
   "source": [
    "部分排序：\n",
    "有时候我们并不想将一个数组全部排序，只希望排序一部分，或者找到排行第几的值，这个时候就要使用np.partition函数，输入的是数组和k,最左边是第k小的值,它也有axis标签"
   ]
  },
  {
   "cell_type": "code",
   "execution_count": 73,
   "id": "74b67116-ab5f-487f-bc5e-689246cf3935",
   "metadata": {},
   "outputs": [
    {
     "name": "stdout",
     "output_type": "stream",
     "text": [
      "[   6    1    2   34   55 6456]\n"
     ]
    }
   ],
   "source": [
    "import numpy as np\n",
    "\n",
    "x = np.array([1,2,34,55,6,6456])\n",
    "\n",
    "print(np.partition(x,3))"
   ]
  },
  {
   "cell_type": "markdown",
   "id": "3872d1ba-e6be-4dd2-b42d-2662a4a01ac7",
   "metadata": {},
   "source": [
    "## 结构化数据\n",
    "Numpy中的结构化数据，实际上是pandas的基石\n",
    "### 结构化数组\n",
    "也就是自定义一个结构体，让每一个数组都是这样的一个结构体"
   ]
  },
  {
   "cell_type": "code",
   "execution_count": 79,
   "id": "e482ccf9-3ddb-472d-94af-a443a7c35c50",
   "metadata": {},
   "outputs": [
    {
     "name": "stdout",
     "output_type": "stream",
     "text": [
      "[('', 0, 0.) ('', 0, 0.) ('', 0, 0.) ('', 0, 0.)]\n",
      "[('1111', 0, 0.) ('1111', 0, 0.) ('1111', 0, 0.) ('1111', 0, 0.)]\n"
     ]
    }
   ],
   "source": [
    "import numpy as np\n",
    "\n",
    "xtype = np.dtype({\n",
    "    'names':('name','age','weight'),\n",
    "    'formats':('U10','i4','f8')\n",
    "})\n",
    "\n",
    "data=np.zeros(4,dtype=xtype)\n",
    "print(data)\n",
    "data[\"name\"]=\"1111\"\n",
    "print(data)"
   ]
  },
  {
   "cell_type": "markdown",
   "id": "6c89a39b-9ec5-4fc2-a068-1dc7ef037f7f",
   "metadata": {},
   "source": [
    "更高级的复合类型"
   ]
  },
  {
   "cell_type": "code",
   "execution_count": 81,
   "id": "c60ada3b-e0e8-4170-9ef1-244e4a226975",
   "metadata": {},
   "outputs": [
    {
     "name": "stdout",
     "output_type": "stream",
     "text": [
      "[(0, [[0., 0., 0.], [0., 0., 0.], [0., 0., 0.]])\n",
      " (0, [[0., 0., 0.], [0., 0., 0.], [0., 0., 0.]])]\n",
      "[[[0. 0. 0.]\n",
      "  [0. 0. 0.]\n",
      "  [0. 0. 0.]]\n",
      "\n",
      " [[0. 0. 0.]\n",
      "  [0. 0. 0.]\n",
      "  [0. 0. 0.]]]\n"
     ]
    }
   ],
   "source": [
    "import numpy as np\n",
    "\n",
    "xtype = np.dtype([(\"id\",\"i8\"),('mat','f8',(3,3))])\n",
    "\n",
    "data = np.zeros(2,dtype=xtype)\n",
    "\n",
    "print(data)\n",
    "\n",
    "print(data['mat'])"
   ]
  },
  {
   "cell_type": "markdown",
   "id": "1c20ad46-00e9-421b-aabb-40ad2178fbef",
   "metadata": {},
   "source": [
    "### 记录数组\n",
    "Numpy提供了np.recarray类，它的特性是域可以像属性一样获取，而不是像字典那样获取,但是会有一定的额外开销"
   ]
  },
  {
   "cell_type": "code",
   "execution_count": 87,
   "id": "4df56783-d5e1-4649-92df-ca5efe48efb7",
   "metadata": {},
   "outputs": [
    {
     "name": "stdout",
     "output_type": "stream",
     "text": [
      "[(0, [[0., 0., 0.], [0., 0., 0.], [0., 0., 0.]])\n",
      " (0, [[0., 0., 0.], [0., 0., 0.], [0., 0., 0.]])]\n",
      "[0 0]\n",
      "[0 0]\n"
     ]
    }
   ],
   "source": [
    "import numpy as np\n",
    "\n",
    "xtype = np.dtype([(\"id\",\"i8\"),('mat','f8',(3,3))])\n",
    "\n",
    "data = np.zeros(2,dtype=xtype)\n",
    "\n",
    "print(data)\n",
    "\n",
    "a=data.view(np.recarray)\n",
    "print(a.id)\n",
    "print(data['id'])"
   ]
  },
  {
   "cell_type": "code",
   "execution_count": null,
   "id": "eb865ec9-336f-4f1c-92a5-f485aff0456a",
   "metadata": {},
   "outputs": [],
   "source": []
  }
 ],
 "metadata": {
  "kernelspec": {
   "display_name": "Python 3 (ipykernel)",
   "language": "python",
   "name": "python3"
  },
  "language_info": {
   "codemirror_mode": {
    "name": "ipython",
    "version": 3
   },
   "file_extension": ".py",
   "mimetype": "text/x-python",
   "name": "python",
   "nbconvert_exporter": "python",
   "pygments_lexer": "ipython3",
   "version": "3.12.3"
  }
 },
 "nbformat": 4,
 "nbformat_minor": 5
}
